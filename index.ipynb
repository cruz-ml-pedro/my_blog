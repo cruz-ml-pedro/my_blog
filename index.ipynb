{
  "cells": [
    {
      "cell_type": "raw",
      "metadata": {},
      "source": [
        "---\n",
        "title: \"\"\n",
        "image: IMG_20230109_160442686.jpg\n",
        "output:\n",
        "  html_document:\n",
        "    class: justify \n",
        "about:\n",
        "  template: jolla\n",
        "  links:\n",
        "    - icon: linkedin\n",
        "      text: LinkedIn\n",
        "      href: https://www.linkedin.com/in/pedro-lima-8a9356268/\n",
        "    - icon: github\n",
        "      text: Github\n",
        "      href: https://github.com/cruz-ml-pedro\n",
        "---"
      ],
      "id": "022ce31f"
    },
    {
      "cell_type": "markdown",
      "metadata": {},
      "source": [
        "```{css, echo=FALSE}\n",
        ".justify {\n",
        "  text-align: justify;\n",
        "}\n",
        "```\n",
        "\n",
        "\n",
        "# Saudações a todos!\n",
        "::: justify\n",
        "Me chamo Pedro Lima, sou geofísico de formação e mestre em ciências, é um prazer dar as boas-vindas a vocês em meu blog. Neste espaço pretendo compartilhar minha jornada de exploração e aprendizado contínuo sobre uma variedade de conteúdos relaionados a análise e modelagem de dados.\n",
        "\n",
        "Pretendo compartilhar tutoriais detalhados, insights sobre minhas próprias experiências e, é claro, códigos práticos em R, e espero que em breve, também conteúdos em Python.\n",
        "\n",
        "Caso tenha interesse em entrar em contato, vocês encontrarão links para minhas redes sociais na parte superior e inferior da página, onde estou sempre aberto a discussões, perguntas e compartilhamento de ideias. Além disso, vocês terão a oportunidade de acessar e baixar meu currículo diretamente aqui no blog, para que possam conhecer mais sobre minha jornada e experiência.\n",
        "\n",
        "Com entusiasmo,\n",
        "\n",
        "Pedro Lima\n",
        ":::"
      ],
      "id": "4dabf97f"
    }
  ],
  "metadata": {
    "kernelspec": {
      "display_name": "Python 3",
      "language": "python",
      "name": "python3"
    }
  },
  "nbformat": 4,
  "nbformat_minor": 5
}